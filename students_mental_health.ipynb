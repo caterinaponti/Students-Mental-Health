{
 "cells": [
  {
   "cell_type": "code",
   "execution_count": 1,
   "metadata": {},
   "outputs": [],
   "source": [
    "import numpy as np # linear algebra\n",
    "import pandas as pd # data processing, CSV file I/O (e.g. pd.read_csv)\n",
    "import matplotlib.pyplot as plt\n",
    "from scipy import stats\n",
    "import seaborn as sns\n"
   ]
  },
  {
   "cell_type": "code",
   "execution_count": 2,
   "metadata": {},
   "outputs": [
    {
     "data": {
      "text/html": [
       "<div>\n",
       "<style scoped>\n",
       "    .dataframe tbody tr th:only-of-type {\n",
       "        vertical-align: middle;\n",
       "    }\n",
       "\n",
       "    .dataframe tbody tr th {\n",
       "        vertical-align: top;\n",
       "    }\n",
       "\n",
       "    .dataframe thead th {\n",
       "        text-align: right;\n",
       "    }\n",
       "</style>\n",
       "<table border=\"1\" class=\"dataframe\">\n",
       "  <thead>\n",
       "    <tr style=\"text-align: right;\">\n",
       "      <th></th>\n",
       "      <th>Timestamp</th>\n",
       "      <th>Choose your gender</th>\n",
       "      <th>Age</th>\n",
       "      <th>What is your course?</th>\n",
       "      <th>Your current year of Study</th>\n",
       "      <th>What is your CGPA?</th>\n",
       "      <th>Marital status</th>\n",
       "      <th>Do you have Depression?</th>\n",
       "      <th>Do you have Anxiety?</th>\n",
       "      <th>Do you have Panic attack?</th>\n",
       "      <th>Did you seek any specialist for a treatment?</th>\n",
       "    </tr>\n",
       "  </thead>\n",
       "  <tbody>\n",
       "    <tr>\n",
       "      <th>0</th>\n",
       "      <td>8/7/2020 12:02</td>\n",
       "      <td>Female</td>\n",
       "      <td>18.0</td>\n",
       "      <td>Engineering</td>\n",
       "      <td>year 1</td>\n",
       "      <td>3.00 - 3.49</td>\n",
       "      <td>No</td>\n",
       "      <td>Yes</td>\n",
       "      <td>No</td>\n",
       "      <td>Yes</td>\n",
       "      <td>No</td>\n",
       "    </tr>\n",
       "    <tr>\n",
       "      <th>1</th>\n",
       "      <td>8/7/2020 12:04</td>\n",
       "      <td>Male</td>\n",
       "      <td>21.0</td>\n",
       "      <td>Islamic education</td>\n",
       "      <td>year 2</td>\n",
       "      <td>3.00 - 3.49</td>\n",
       "      <td>No</td>\n",
       "      <td>No</td>\n",
       "      <td>Yes</td>\n",
       "      <td>No</td>\n",
       "      <td>No</td>\n",
       "    </tr>\n",
       "    <tr>\n",
       "      <th>2</th>\n",
       "      <td>8/7/2020 12:05</td>\n",
       "      <td>Male</td>\n",
       "      <td>19.0</td>\n",
       "      <td>BIT</td>\n",
       "      <td>Year 1</td>\n",
       "      <td>3.00 - 3.49</td>\n",
       "      <td>No</td>\n",
       "      <td>Yes</td>\n",
       "      <td>Yes</td>\n",
       "      <td>Yes</td>\n",
       "      <td>No</td>\n",
       "    </tr>\n",
       "    <tr>\n",
       "      <th>3</th>\n",
       "      <td>8/7/2020 12:06</td>\n",
       "      <td>Female</td>\n",
       "      <td>22.0</td>\n",
       "      <td>Laws</td>\n",
       "      <td>year 3</td>\n",
       "      <td>3.00 - 3.49</td>\n",
       "      <td>Yes</td>\n",
       "      <td>Yes</td>\n",
       "      <td>No</td>\n",
       "      <td>No</td>\n",
       "      <td>No</td>\n",
       "    </tr>\n",
       "    <tr>\n",
       "      <th>4</th>\n",
       "      <td>8/7/2020 12:13</td>\n",
       "      <td>Male</td>\n",
       "      <td>23.0</td>\n",
       "      <td>Mathemathics</td>\n",
       "      <td>year 4</td>\n",
       "      <td>3.00 - 3.49</td>\n",
       "      <td>No</td>\n",
       "      <td>No</td>\n",
       "      <td>No</td>\n",
       "      <td>No</td>\n",
       "      <td>No</td>\n",
       "    </tr>\n",
       "  </tbody>\n",
       "</table>\n",
       "</div>"
      ],
      "text/plain": [
       "        Timestamp Choose your gender   Age What is your course?  \\\n",
       "0  8/7/2020 12:02             Female  18.0          Engineering   \n",
       "1  8/7/2020 12:04               Male  21.0    Islamic education   \n",
       "2  8/7/2020 12:05               Male  19.0                  BIT   \n",
       "3  8/7/2020 12:06             Female  22.0                 Laws   \n",
       "4  8/7/2020 12:13               Male  23.0         Mathemathics   \n",
       "\n",
       "  Your current year of Study What is your CGPA? Marital status  \\\n",
       "0                     year 1        3.00 - 3.49             No   \n",
       "1                     year 2        3.00 - 3.49             No   \n",
       "2                     Year 1        3.00 - 3.49             No   \n",
       "3                     year 3        3.00 - 3.49            Yes   \n",
       "4                     year 4        3.00 - 3.49             No   \n",
       "\n",
       "  Do you have Depression? Do you have Anxiety? Do you have Panic attack?  \\\n",
       "0                     Yes                   No                       Yes   \n",
       "1                      No                  Yes                        No   \n",
       "2                     Yes                  Yes                       Yes   \n",
       "3                     Yes                   No                        No   \n",
       "4                      No                   No                        No   \n",
       "\n",
       "  Did you seek any specialist for a treatment?  \n",
       "0                                           No  \n",
       "1                                           No  \n",
       "2                                           No  \n",
       "3                                           No  \n",
       "4                                           No  "
      ]
     },
     "execution_count": 2,
     "metadata": {},
     "output_type": "execute_result"
    }
   ],
   "source": [
    "data = pd.read_csv(\"Student Mental health.csv\")\n",
    "data.head()"
   ]
  },
  {
   "cell_type": "code",
   "execution_count": 3,
   "metadata": {},
   "outputs": [
    {
     "data": {
      "text/plain": [
       "(101, 11)"
      ]
     },
     "execution_count": 3,
     "metadata": {},
     "output_type": "execute_result"
    }
   ],
   "source": [
    "data.shape"
   ]
  },
  {
   "cell_type": "code",
   "execution_count": 5,
   "metadata": {},
   "outputs": [
    {
     "data": {
      "text/html": [
       "<div>\n",
       "<style scoped>\n",
       "    .dataframe tbody tr th:only-of-type {\n",
       "        vertical-align: middle;\n",
       "    }\n",
       "\n",
       "    .dataframe tbody tr th {\n",
       "        vertical-align: top;\n",
       "    }\n",
       "\n",
       "    .dataframe thead th {\n",
       "        text-align: right;\n",
       "    }\n",
       "</style>\n",
       "<table border=\"1\" class=\"dataframe\">\n",
       "  <thead>\n",
       "    <tr style=\"text-align: right;\">\n",
       "      <th></th>\n",
       "      <th>Timestamp</th>\n",
       "      <th>Gender</th>\n",
       "      <th>Age</th>\n",
       "      <th>Course</th>\n",
       "      <th>Year of Study</th>\n",
       "      <th>CGPA</th>\n",
       "      <th>Marital Status</th>\n",
       "      <th>Depression</th>\n",
       "      <th>Anxiety</th>\n",
       "      <th>Panic Attack</th>\n",
       "      <th>Treatment</th>\n",
       "    </tr>\n",
       "  </thead>\n",
       "  <tbody>\n",
       "    <tr>\n",
       "      <th>0</th>\n",
       "      <td>8/7/2020 12:02</td>\n",
       "      <td>Female</td>\n",
       "      <td>18.0</td>\n",
       "      <td>Engineering</td>\n",
       "      <td>year 1</td>\n",
       "      <td>3.00 - 3.49</td>\n",
       "      <td>No</td>\n",
       "      <td>Yes</td>\n",
       "      <td>No</td>\n",
       "      <td>Yes</td>\n",
       "      <td>No</td>\n",
       "    </tr>\n",
       "    <tr>\n",
       "      <th>1</th>\n",
       "      <td>8/7/2020 12:04</td>\n",
       "      <td>Male</td>\n",
       "      <td>21.0</td>\n",
       "      <td>Islamic education</td>\n",
       "      <td>year 2</td>\n",
       "      <td>3.00 - 3.49</td>\n",
       "      <td>No</td>\n",
       "      <td>No</td>\n",
       "      <td>Yes</td>\n",
       "      <td>No</td>\n",
       "      <td>No</td>\n",
       "    </tr>\n",
       "    <tr>\n",
       "      <th>2</th>\n",
       "      <td>8/7/2020 12:05</td>\n",
       "      <td>Male</td>\n",
       "      <td>19.0</td>\n",
       "      <td>BIT</td>\n",
       "      <td>Year 1</td>\n",
       "      <td>3.00 - 3.49</td>\n",
       "      <td>No</td>\n",
       "      <td>Yes</td>\n",
       "      <td>Yes</td>\n",
       "      <td>Yes</td>\n",
       "      <td>No</td>\n",
       "    </tr>\n",
       "    <tr>\n",
       "      <th>3</th>\n",
       "      <td>8/7/2020 12:06</td>\n",
       "      <td>Female</td>\n",
       "      <td>22.0</td>\n",
       "      <td>Laws</td>\n",
       "      <td>year 3</td>\n",
       "      <td>3.00 - 3.49</td>\n",
       "      <td>Yes</td>\n",
       "      <td>Yes</td>\n",
       "      <td>No</td>\n",
       "      <td>No</td>\n",
       "      <td>No</td>\n",
       "    </tr>\n",
       "    <tr>\n",
       "      <th>4</th>\n",
       "      <td>8/7/2020 12:13</td>\n",
       "      <td>Male</td>\n",
       "      <td>23.0</td>\n",
       "      <td>Mathemathics</td>\n",
       "      <td>year 4</td>\n",
       "      <td>3.00 - 3.49</td>\n",
       "      <td>No</td>\n",
       "      <td>No</td>\n",
       "      <td>No</td>\n",
       "      <td>No</td>\n",
       "      <td>No</td>\n",
       "    </tr>\n",
       "  </tbody>\n",
       "</table>\n",
       "</div>"
      ],
      "text/plain": [
       "        Timestamp  Gender   Age             Course Year of Study         CGPA  \\\n",
       "0  8/7/2020 12:02  Female  18.0        Engineering        year 1  3.00 - 3.49   \n",
       "1  8/7/2020 12:04    Male  21.0  Islamic education        year 2  3.00 - 3.49   \n",
       "2  8/7/2020 12:05    Male  19.0                BIT        Year 1  3.00 - 3.49   \n",
       "3  8/7/2020 12:06  Female  22.0               Laws        year 3  3.00 - 3.49   \n",
       "4  8/7/2020 12:13    Male  23.0       Mathemathics        year 4  3.00 - 3.49   \n",
       "\n",
       "  Marital Status Depression Anxiety Panic Attack Treatment  \n",
       "0             No        Yes      No          Yes        No  \n",
       "1             No         No     Yes           No        No  \n",
       "2             No        Yes     Yes          Yes        No  \n",
       "3            Yes        Yes      No           No        No  \n",
       "4             No         No      No           No        No  "
      ]
     },
     "execution_count": 5,
     "metadata": {},
     "output_type": "execute_result"
    }
   ],
   "source": [
    "#Rename columns\n",
    "data.columns = ['Timestamp', 'Gender', 'Age', 'Course', \n",
    "                'Year of Study', 'CGPA', 'Marital Status', \n",
    "                'Depression', 'Anxiety', 'Panic Attack', 'Treatment']\n",
    "data.head()"
   ]
  },
  {
   "cell_type": "code",
   "execution_count": 6,
   "metadata": {},
   "outputs": [],
   "source": [
    "# No need for the timestamp column, a few hour difference has insignificant impact\n",
    "data.drop(\"Timestamp\",axis=1,inplace=True)"
   ]
  },
  {
   "cell_type": "code",
   "execution_count": 7,
   "metadata": {},
   "outputs": [
    {
     "data": {
      "text/plain": [
       "Gender            0\n",
       "Age               1\n",
       "Course            0\n",
       "Year of Study     0\n",
       "CGPA              0\n",
       "Marital Status    0\n",
       "Depression        0\n",
       "Anxiety           0\n",
       "Panic Attack      0\n",
       "Treatment         0\n",
       "dtype: int64"
      ]
     },
     "execution_count": 7,
     "metadata": {},
     "output_type": "execute_result"
    }
   ],
   "source": [
    "# checking missing data\n",
    "data.isnull().sum()"
   ]
  },
  {
   "cell_type": "code",
   "execution_count": 8,
   "metadata": {},
   "outputs": [
    {
     "data": {
      "text/html": [
       "<div>\n",
       "<style scoped>\n",
       "    .dataframe tbody tr th:only-of-type {\n",
       "        vertical-align: middle;\n",
       "    }\n",
       "\n",
       "    .dataframe tbody tr th {\n",
       "        vertical-align: top;\n",
       "    }\n",
       "\n",
       "    .dataframe thead th {\n",
       "        text-align: right;\n",
       "    }\n",
       "</style>\n",
       "<table border=\"1\" class=\"dataframe\">\n",
       "  <thead>\n",
       "    <tr style=\"text-align: right;\">\n",
       "      <th></th>\n",
       "      <th>Age</th>\n",
       "    </tr>\n",
       "  </thead>\n",
       "  <tbody>\n",
       "    <tr>\n",
       "      <th>count</th>\n",
       "      <td>100.00000</td>\n",
       "    </tr>\n",
       "    <tr>\n",
       "      <th>mean</th>\n",
       "      <td>20.53000</td>\n",
       "    </tr>\n",
       "    <tr>\n",
       "      <th>std</th>\n",
       "      <td>2.49628</td>\n",
       "    </tr>\n",
       "    <tr>\n",
       "      <th>min</th>\n",
       "      <td>18.00000</td>\n",
       "    </tr>\n",
       "    <tr>\n",
       "      <th>25%</th>\n",
       "      <td>18.00000</td>\n",
       "    </tr>\n",
       "    <tr>\n",
       "      <th>50%</th>\n",
       "      <td>19.00000</td>\n",
       "    </tr>\n",
       "    <tr>\n",
       "      <th>75%</th>\n",
       "      <td>23.00000</td>\n",
       "    </tr>\n",
       "    <tr>\n",
       "      <th>max</th>\n",
       "      <td>24.00000</td>\n",
       "    </tr>\n",
       "  </tbody>\n",
       "</table>\n",
       "</div>"
      ],
      "text/plain": [
       "             Age\n",
       "count  100.00000\n",
       "mean    20.53000\n",
       "std      2.49628\n",
       "min     18.00000\n",
       "25%     18.00000\n",
       "50%     19.00000\n",
       "75%     23.00000\n",
       "max     24.00000"
      ]
     },
     "execution_count": 8,
     "metadata": {},
     "output_type": "execute_result"
    }
   ],
   "source": [
    "data.describe()"
   ]
  },
  {
   "cell_type": "code",
   "execution_count": 9,
   "metadata": {},
   "outputs": [
    {
     "data": {
      "text/plain": [
       "Gender            0\n",
       "Age               1\n",
       "Course            0\n",
       "Year of Study     0\n",
       "CGPA              0\n",
       "Marital Status    0\n",
       "Depression        0\n",
       "Anxiety           0\n",
       "Panic Attack      0\n",
       "Treatment         0\n",
       "dtype: int64"
      ]
     },
     "execution_count": 9,
     "metadata": {},
     "output_type": "execute_result"
    }
   ],
   "source": [
    "data.isna().sum()\n"
   ]
  },
  {
   "cell_type": "code",
   "execution_count": 10,
   "metadata": {},
   "outputs": [
    {
     "data": {
      "text/plain": [
       "array(['Engineering', 'Islamic education', 'BIT', 'Laws', 'Mathemathics',\n",
       "       'Pendidikan islam', 'BCS', 'Human Resources', 'Irkhs',\n",
       "       'Psychology', 'KENMS', 'Accounting ', 'ENM', 'Marine science',\n",
       "       'KOE', 'Banking Studies', 'Business Administration', 'Law',\n",
       "       'KIRKHS', 'Usuluddin ', 'TAASL', 'Engine', 'ALA',\n",
       "       'Biomedical science', 'koe', 'Kirkhs', 'BENL', 'Benl', 'IT', 'CTS',\n",
       "       'engin', 'Econs', 'MHSC', 'Malcom', 'Kop', 'Human Sciences ',\n",
       "       'Biotechnology', 'Communication ', 'Diploma Nursing',\n",
       "       'Pendidikan Islam ', 'Radiography', 'psychology', 'Fiqh fatwa ',\n",
       "       'DIPLOMA TESL', 'Koe', 'Fiqh', 'Islamic Education', 'Nursing ',\n",
       "       'Pendidikan Islam'], dtype=object)"
      ]
     },
     "execution_count": 10,
     "metadata": {},
     "output_type": "execute_result"
    }
   ],
   "source": [
    "data['Course'].unique()"
   ]
  },
  {
   "cell_type": "code",
   "execution_count": 12,
   "metadata": {},
   "outputs": [
    {
     "data": {
      "text/plain": [
       "array(['Engineering', 'Islamic Education', 'BIT', nan, 'BCS',\n",
       "       'Human Resources', 'IRKHS', 'Psychology', 'KENMS', 'Accounting',\n",
       "       'ENM', 'Marine Science', 'KOE', 'Banking Studies',\n",
       "       'Business Administration', 'KIRKHS', 'Usuluddin', 'TAASL', 'ALA',\n",
       "       'Biomedical Science', 'BENL', 'IT', 'CTS', 'MHSC', 'MALCOM', 'KOP',\n",
       "       'Human Sciences', 'Biotechnology', 'Communication',\n",
       "       'Diploma Nursing', 'Radiography', 'Fiqh Fatwa', 'Diploma TESL',\n",
       "       'Fiqh', 'Nursing'], dtype=object)"
      ]
     },
     "execution_count": 12,
     "metadata": {},
     "output_type": "execute_result"
    }
   ],
   "source": [
    "#since multiple entries of the same courses exist\n",
    "#yet only differ in lettercase\n",
    "\n",
    "course_mapping = {\n",
    "    'engineering': 'Engineering',\n",
    "    'islamic education': 'Islamic Education',\n",
    "    'bit': 'BIT',\n",
    "    'laws': 'Law',\n",
    "    'mathemathics': 'Mathematics',\n",
    "    'pendidikan islam': 'Islamic Education',\n",
    "    'bcs': 'BCS',\n",
    "    'human resources': 'Human Resources',\n",
    "    'irkhs': 'IRKHS',\n",
    "    'psychology': 'Psychology',\n",
    "    'kenms': 'KENMS',\n",
    "    'accounting': 'Accounting',\n",
    "    'enm': 'ENM',\n",
    "    'marine science': 'Marine Science',\n",
    "    'koe': 'KOE',\n",
    "    'banking studies': 'Banking Studies',\n",
    "    'business administration': 'Business Administration',\n",
    "    'kirkhs': 'KIRKHS',\n",
    "    'usuluddin': 'Usuluddin',\n",
    "    'taasl': 'TAASL',\n",
    "    'engine': 'Engineering',\n",
    "    'ala': 'ALA',\n",
    "    'biomedical science': 'Biomedical Science',\n",
    "    'benl': 'BENL',\n",
    "    'it': 'IT',\n",
    "    'cts': 'CTS',\n",
    "    'econs': 'Economics',\n",
    "    'mhsc': 'MHSC',\n",
    "    'malcom': 'MALCOM',\n",
    "    'kop': 'KOP',\n",
    "    'human sciences': 'Human Sciences',\n",
    "    'biotechnology': 'Biotechnology',\n",
    "    'communication': 'Communication',\n",
    "    'diploma nursing': 'Diploma Nursing',\n",
    "    'pendidikan islam': 'Islamic Education',\n",
    "    'radiography': 'Radiography',\n",
    "    'fiqh fatwa': 'Fiqh Fatwa',\n",
    "    'diploma tesl': 'Diploma TESL',\n",
    "    'fiqh': 'Fiqh',\n",
    "    'nursing': 'Nursing',\n",
    "}\n",
    "data['Course'] = data['Course'].str.lower().str.strip().map(course_mapping)\n",
    "data.Course.unique()"
   ]
  },
  {
   "cell_type": "code",
   "execution_count": 13,
   "metadata": {},
   "outputs": [
    {
     "data": {
      "text/plain": [
       "Text(0.5, 1.0, 'Gender Distribution')"
      ]
     },
     "execution_count": 13,
     "metadata": {},
     "output_type": "execute_result"
    },
    {
     "data": {
      "image/png": "[encoded data removed]",
      "text/plain": [
       "<Figure size 800x600 with 1 Axes>"
      ]
     },
     "metadata": {},
     "output_type": "display_data"
    }
   ],
   "source": [
    "#Gender Distribution\n",
    "gender_counts = data['Gender'].value_counts()\n",
    "\n",
    "#Plotting a bar chart\n",
    "plt.figure(figsize=(8,6))\n",
    "gender_counts.plot(kind='bar', color=['red', 'orange'], alpha = 0.7)\n",
    "\n",
    "#Addign labels and title\n",
    "plt.xlabel('Gender')\n",
    "plt.ylabel('Count')\n",
    "plt.title('Gender Distribution')\n",
    "\n"
   ]
  },
  {
   "cell_type": "markdown",
   "metadata": {},
   "source": [
    "In the Gender distribution bar chart can be observed a vaste majority of women affected by depression between years 18-24. "
   ]
  },
  {
   "cell_type": "code",
   "execution_count": 14,
   "metadata": {},
   "outputs": [
    {
     "data": {
      "text/plain": [
       "Text(0.5, 1.0, 'Age Distribution')"
      ]
     },
     "execution_count": 14,
     "metadata": {},
     "output_type": "execute_result"
    },
    {
     "data": {
      "image/png": "[encoded data removed]",
      "text/plain": [
       "<Figure size 800x400 with 1 Axes>"
      ]
     },
     "metadata": {},
     "output_type": "display_data"
    }
   ],
   "source": [
    "# Plotting a histogram for age distribution\n",
    "plt.figure(figsize=(8,4))\n",
    "plt.hist(data['Age'], bins = 15, color = 'skyblue', edgecolor ='blue')\n",
    "\n",
    "# Adding labels and title\n",
    "plt.xlabel('Age')\n",
    "plt.ylabel('Frequency')\n",
    "plt.title('Age Distribution')\n"
   ]
  },
  {
   "cell_type": "markdown",
   "metadata": {},
   "source": [
    "In the Age Distribution histogram can be observed a majority of 18-years-old students affected by depression. This can be attributable to first-year college students being homesick or struggling to make friends. "
   ]
  },
  {
   "cell_type": "code",
   "execution_count": 15,
   "metadata": {},
   "outputs": [
    {
     "data": {
      "text/plain": [
       "<Axes: >"
      ]
     },
     "execution_count": 15,
     "metadata": {},
     "output_type": "execute_result"
    },
    {
     "data": {
      "text/plain": [
       "<Figure size 800x400 with 0 Axes>"
      ]
     },
     "metadata": {},
     "output_type": "display_data"
    },
    {
     "data": {
      "image/png": "[encoded data removed]",
      "text/plain": [
       "<Figure size 640x480 with 1 Axes>"
      ]
     },
     "metadata": {},
     "output_type": "display_data"
    }
   ],
   "source": [
    "# Create a DataFrame with counts for each mental health condition\n",
    "mental_health_issues = data[['Depression', 'Anxiety', 'Panic Attack']].apply(pd.Series.value_counts).transpose()\n",
    "\n",
    "#plotting bar chart\n",
    "plt.figure(figsize=(8,4))\n",
    "mental_health_issues.plot(kind = 'bar', stacked=True, colormap='viridis', alpha = 0.7)"
   ]
  },
  {
   "cell_type": "code",
   "execution_count": 16,
   "metadata": {},
   "outputs": [
    {
     "data": {
      "text/plain": [
       "Text(0.5, 1.0, 'Percentage of individuals who sought specialist treatment')"
      ]
     },
     "execution_count": 16,
     "metadata": {},
     "output_type": "execute_result"
    },
    {
     "data": {
      "image/png": "[encoded data removed]",
      "text/plain": [
       "<Figure size 500x500 with 1 Axes>"
      ]
     },
     "metadata": {},
     "output_type": "display_data"
    }
   ],
   "source": [
    "#Percentage of individuals who sought specialist treatment using a pie chart. \n",
    "treatment_counts = data['Treatment'].value_counts()\n",
    "\n",
    "plt.figure(figsize=(5,5))\n",
    "plt.pie(treatment_counts, labels=treatment_counts.index, autopct='%1.1f%%', colors=['blue', 'pink'])\n",
    "\n",
    "plt.title('Percentage of individuals who sought specialist treatment')\n"
   ]
  },
  {
   "cell_type": "code",
   "execution_count": 17,
   "metadata": {},
   "outputs": [
    {
     "data": {
      "text/html": [
       "<div>\n",
       "<style scoped>\n",
       "    .dataframe tbody tr th:only-of-type {\n",
       "        vertical-align: middle;\n",
       "    }\n",
       "\n",
       "    .dataframe tbody tr th {\n",
       "        vertical-align: top;\n",
       "    }\n",
       "\n",
       "    .dataframe thead th {\n",
       "        text-align: right;\n",
       "    }\n",
       "</style>\n",
       "<table border=\"1\" class=\"dataframe\">\n",
       "  <thead>\n",
       "    <tr style=\"text-align: right;\">\n",
       "      <th></th>\n",
       "      <th>Gender</th>\n",
       "      <th>Age</th>\n",
       "      <th>Course</th>\n",
       "      <th>Year of Study</th>\n",
       "      <th>CGPA</th>\n",
       "      <th>Marital Status</th>\n",
       "      <th>Depression</th>\n",
       "      <th>Anxiety</th>\n",
       "      <th>Panic Attack</th>\n",
       "      <th>Treatment</th>\n",
       "    </tr>\n",
       "  </thead>\n",
       "  <tbody>\n",
       "    <tr>\n",
       "      <th>0</th>\n",
       "      <td>Female</td>\n",
       "      <td>18.0</td>\n",
       "      <td>Engineering</td>\n",
       "      <td>year 1</td>\n",
       "      <td>3.00 - 3.49</td>\n",
       "      <td>No</td>\n",
       "      <td>Yes</td>\n",
       "      <td>No</td>\n",
       "      <td>Yes</td>\n",
       "      <td>No</td>\n",
       "    </tr>\n",
       "    <tr>\n",
       "      <th>1</th>\n",
       "      <td>Male</td>\n",
       "      <td>21.0</td>\n",
       "      <td>Islamic Education</td>\n",
       "      <td>year 2</td>\n",
       "      <td>3.00 - 3.49</td>\n",
       "      <td>No</td>\n",
       "      <td>No</td>\n",
       "      <td>Yes</td>\n",
       "      <td>No</td>\n",
       "      <td>No</td>\n",
       "    </tr>\n",
       "    <tr>\n",
       "      <th>2</th>\n",
       "      <td>Male</td>\n",
       "      <td>19.0</td>\n",
       "      <td>BIT</td>\n",
       "      <td>Year 1</td>\n",
       "      <td>3.00 - 3.49</td>\n",
       "      <td>No</td>\n",
       "      <td>Yes</td>\n",
       "      <td>Yes</td>\n",
       "      <td>Yes</td>\n",
       "      <td>No</td>\n",
       "    </tr>\n",
       "    <tr>\n",
       "      <th>3</th>\n",
       "      <td>Female</td>\n",
       "      <td>22.0</td>\n",
       "      <td>NaN</td>\n",
       "      <td>year 3</td>\n",
       "      <td>3.00 - 3.49</td>\n",
       "      <td>Yes</td>\n",
       "      <td>Yes</td>\n",
       "      <td>No</td>\n",
       "      <td>No</td>\n",
       "      <td>No</td>\n",
       "    </tr>\n",
       "    <tr>\n",
       "      <th>4</th>\n",
       "      <td>Male</td>\n",
       "      <td>23.0</td>\n",
       "      <td>NaN</td>\n",
       "      <td>year 4</td>\n",
       "      <td>3.00 - 3.49</td>\n",
       "      <td>No</td>\n",
       "      <td>No</td>\n",
       "      <td>No</td>\n",
       "      <td>No</td>\n",
       "      <td>No</td>\n",
       "    </tr>\n",
       "  </tbody>\n",
       "</table>\n",
       "</div>"
      ],
      "text/plain": [
       "   Gender   Age             Course Year of Study         CGPA Marital Status  \\\n",
       "0  Female  18.0        Engineering        year 1  3.00 - 3.49             No   \n",
       "1    Male  21.0  Islamic Education        year 2  3.00 - 3.49             No   \n",
       "2    Male  19.0                BIT        Year 1  3.00 - 3.49             No   \n",
       "3  Female  22.0                NaN        year 3  3.00 - 3.49            Yes   \n",
       "4    Male  23.0                NaN        year 4  3.00 - 3.49             No   \n",
       "\n",
       "  Depression Anxiety Panic Attack Treatment  \n",
       "0        Yes      No          Yes        No  \n",
       "1         No     Yes           No        No  \n",
       "2        Yes     Yes          Yes        No  \n",
       "3        Yes      No           No        No  \n",
       "4         No      No           No        No  "
      ]
     },
     "execution_count": 17,
     "metadata": {},
     "output_type": "execute_result"
    }
   ],
   "source": [
    "data.head()\n"
   ]
  },
  {
   "cell_type": "code",
   "execution_count": 18,
   "metadata": {},
   "outputs": [
    {
     "data": {
      "text/plain": [
       "array(['3.00 - 3.49', '3.50 - 4.00', '3.50 - 4.00 ', '2.50 - 2.99',\n",
       "       '2.00 - 2.49', '0 - 1.99'], dtype=object)"
      ]
     },
     "execution_count": 18,
     "metadata": {},
     "output_type": "execute_result"
    }
   ],
   "source": [
    "data['CGPA'].unique()"
   ]
  },
  {
   "cell_type": "code",
   "execution_count": 19,
   "metadata": {},
   "outputs": [
    {
     "data": {
      "text/plain": [
       "CGPA\n",
       "3.50 - 4.00    48\n",
       "3.00 - 3.49    43\n",
       "2.50 - 2.99     4\n",
       "0 - 1.99        4\n",
       "2.00 - 2.49     2\n",
       "Name: count, dtype: int64"
      ]
     },
     "execution_count": 19,
     "metadata": {},
     "output_type": "execute_result"
    }
   ],
   "source": [
    "data['CGPA'] = data['CGPA'].replace('3.50 - 4.00 ', '3.50 - 4.00')\n",
    "data['CGPA'].value_counts()\n",
    "\n"
   ]
  },
  {
   "cell_type": "code",
   "execution_count": 20,
   "metadata": {},
   "outputs": [
    {
     "data": {
      "text/plain": [
       "<Axes: xlabel='CGPA'>"
      ]
     },
     "execution_count": 20,
     "metadata": {},
     "output_type": "execute_result"
    },
    {
     "data": {
      "image/png": "[encoded data removed]",
      "text/plain": [
       "<Figure size 500x300 with 1 Axes>"
      ]
     },
     "metadata": {},
     "output_type": "display_data"
    }
   ],
   "source": [
    "data['CGPA'].value_counts().plot(kind='bar', color='green', figsize=(5,3))"
   ]
  },
  {
   "cell_type": "markdown",
   "metadata": {},
   "source": [
    "CGPA distribution of students bar plot clearly highlights how students affected from depression are often great at academics. This could suggest a correlation between education and depression. "
   ]
  },
  {
   "cell_type": "code",
   "execution_count": 21,
   "metadata": {},
   "outputs": [
    {
     "data": {
      "text/plain": [
       "array(['year 1', 'year 2', 'Year 1', 'year 3', 'year 4', 'Year 2',\n",
       "       'Year 3'], dtype=object)"
      ]
     },
     "execution_count": 21,
     "metadata": {},
     "output_type": "execute_result"
    }
   ],
   "source": [
    "data['Year of Study'].unique()"
   ]
  },
  {
   "cell_type": "code",
   "execution_count": 22,
   "metadata": {},
   "outputs": [],
   "source": [
    "data['Year of Study'] = data['Year of Study'].replace('year 1', 'Year 1')\n",
    "data['Year of Study'] = data['Year of Study'].replace('year 2', 'Year 2')\n",
    "data['Year of Study'] = data['Year of Study'].replace('year 3', 'Year 3')"
   ]
  },
  {
   "cell_type": "code",
   "execution_count": 23,
   "metadata": {},
   "outputs": [
    {
     "data": {
      "text/plain": [
       "Year of Study\n",
       "Year 1    43\n",
       "Year 2    26\n",
       "Year 3    24\n",
       "year 4     8\n",
       "Name: count, dtype: int64"
      ]
     },
     "execution_count": 23,
     "metadata": {},
     "output_type": "execute_result"
    }
   ],
   "source": [
    "data['Year of Study'].value_counts()"
   ]
  },
  {
   "cell_type": "code",
   "execution_count": 24,
   "metadata": {},
   "outputs": [
    {
     "data": {
      "text/plain": [
       "<Axes: xlabel='Year of Study'>"
      ]
     },
     "execution_count": 24,
     "metadata": {},
     "output_type": "execute_result"
    },
    {
     "data": {
      "image/png": "[encoded data removed]",
      "text/plain": [
       "<Figure size 400x300 with 1 Axes>"
      ]
     },
     "metadata": {},
     "output_type": "display_data"
    }
   ],
   "source": [
    "data['Year of Study'].value_counts().plot(kind='bar', color = 'lightblue', figsize=(4,3))"
   ]
  },
  {
   "cell_type": "markdown",
   "metadata": {},
   "source": [
    "The Year of Study bar plot clearly points out that Year 1 of college has the majority of depressio cases. This could be atrributable to home sickness, new enviroment, adjustments..."
   ]
  },
  {
   "cell_type": "code",
   "execution_count": 25,
   "metadata": {},
   "outputs": [
    {
     "data": {
      "text/plain": [
       "<Axes: xlabel='Course'>"
      ]
     },
     "execution_count": 25,
     "metadata": {},
     "output_type": "execute_result"
    },
    {
     "data": {
      "image/png": "[encoded data removed]",
      "text/plain": [
       "<Figure size 900x300 with 1 Axes>"
      ]
     },
     "metadata": {},
     "output_type": "display_data"
    }
   ],
   "source": [
    "data['Course'].value_counts().plot(kind='bar', color = 'orange', figsize=(9,3))"
   ]
  },
  {
   "cell_type": "markdown",
   "metadata": {},
   "source": [
    "The Course Bar plot cleary points out a concentration of depression cases among Engineering, Computer Science (BCS) and Informational Technology (BIF) students. The reason is still to understand. "
   ]
  },
  {
   "cell_type": "code",
   "execution_count": 26,
   "metadata": {},
   "outputs": [
    {
     "data": {
      "text/plain": [
       "<Axes: ylabel='count'>"
      ]
     },
     "execution_count": 26,
     "metadata": {},
     "output_type": "execute_result"
    },
    {
     "data": {
      "image/png": "[encoded data removed]",
      "text/plain": [
       "<Figure size 640x480 with 1 Axes>"
      ]
     },
     "metadata": {},
     "output_type": "display_data"
    }
   ],
   "source": [
    "data['Marital Status'].value_counts().plot(kind='pie', radius=1, center= (3,3), autopct='%1.1f%%', shadow=True, colors=(['green', 'blue']))"
   ]
  },
  {
   "cell_type": "markdown",
   "metadata": {},
   "source": [
    "It is seems to not be a big correlation between marital status and depression."
   ]
  },
  {
   "cell_type": "code",
   "execution_count": 30,
   "metadata": {},
   "outputs": [
    {
     "data": {
      "text/plain": [
       "81"
      ]
     },
     "execution_count": 30,
     "metadata": {},
     "output_type": "execute_result"
    }
   ],
   "source": []
  }
 ],
 "metadata": {
  "kernelspec": {
   "display_name": "Python 3",
   "language": "python",
   "name": "python3"
  },
  "language_info": {
   "codemirror_mode": {
    "name": "ipython",
    "version": 3
   },
   "file_extension": ".py",
   "mimetype": "text/x-python",
   "name": "python",
   "nbconvert_exporter": "python",
   "pygments_lexer": "ipython3",
   "version": "3.11.5"
  }
 },
 "nbformat": 4,
 "nbformat_minor": 2
}
